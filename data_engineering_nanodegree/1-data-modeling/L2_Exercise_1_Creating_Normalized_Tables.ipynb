{
 "cells": [
  {
   "cell_type": "markdown",
   "metadata": {},
   "source": [
    "# Lesson 2 Exercise 1: Creating Normalized Tables"
   ]
  },
  {
   "cell_type": "markdown",
   "metadata": {},
   "source": [
    "## In this exercise we are going to walk through the basics of modeling data in normalized form. We will create tables in PostgreSQL, insert rows of data, and do simple JOIN SQL queries to show how these mutliple tables can work together. \n",
    "\n",
    "#### Where you see ##### you will need to fill in code.\n",
    "\n",
    "Note: __Do not__ click the blue Preview button in the lower task bar"
   ]
  },
  {
   "cell_type": "markdown",
   "metadata": {},
   "source": [
    "#### Import the library \n",
    "Note: An error might popup after this command has exectuted. If it does, read it carefully before ignoring. "
   ]
  },
  {
   "cell_type": "code",
   "execution_count": 1,
   "metadata": {},
   "outputs": [],
   "source": [
    "import psycopg2"
   ]
  },
  {
   "cell_type": "markdown",
   "metadata": {},
   "source": [
    "__Create a connection to the database, get a cursor, and set autocommit to true)__"
   ]
  },
  {
   "cell_type": "code",
   "execution_count": 2,
   "metadata": {},
   "outputs": [],
   "source": [
    "try: \n",
    "    conn = psycopg2.connect(\"host=127.0.0.1 dbname=udacity_de user=postgres password=postgres\")\n",
    "except psycopg2.Error as e: \n",
    "    print(\"Error: Could not make connection to the Postgres database\")\n",
    "    print(e)\n",
    "try: \n",
    "    cur = conn.cursor()\n",
    "except psycopg2.Error as e: \n",
    "    print(\"Error: Could not get cursor to the Database\")\n",
    "    print(e)\n",
    "conn.set_session(autocommit=True)"
   ]
  },
  {
   "attachments": {
    "image.png": {
     "image/png": "[encoded data removed]"
    }
   },
   "cell_type": "markdown",
   "metadata": {},
   "source": [
    "#### Let's imagine we have a table called Music Store. \n",
    "\n",
    "`Table Name: music_store\n",
    "column 0: Transaction Id\n",
    "column 1: Customer Name\n",
    "column 2: Cashier Name\n",
    "column 3: Year \n",
    "column 4: Albums Purchased`\n",
    "\n",
    "\n",
    "## Now to translate this information into a CREATE Table Statement and insert the data\n",
    "\n",
    "![image.png](attachment:image.png)"
   ]
  },
  {
   "cell_type": "code",
   "execution_count": 9,
   "metadata": {},
   "outputs": [
    {
     "name": "stdout",
     "output_type": "stream",
     "text": [
      "(1, 'Amanda', 'Sam', 2000, '{\"Rubber Soul\",\"Let it be\"}')\n",
      "(2, 'Toby', 'Sam', 2000, '{\"My Generation\"}')\n",
      "(3, 'Max', 'Bob', 2018, '{\"Meet the Beatles\",Help!}')\n"
     ]
    }
   ],
   "source": [
    "# TO-DO: Add the CREATE Table Statement and INSERT statements to add the data in the table\n",
    "def execute_query(*args, error=None, **kwargs):\n",
    "    try:\n",
    "        cur.execute(*args, **kwargs)\n",
    "    except psycopg2.Error as e:\n",
    "        if error:\n",
    "            print(error)\n",
    "        print(e)\n",
    "\n",
    "def drop_table(name):\n",
    "    execute_query(f\"DROP TABLE IF EXISTS {name}\", error=\"Error: dropping table\")\n",
    "\n",
    "def create_table(name, fields_desc):\n",
    "    execute_query(f\"CREATE TABLE IF NOT EXISTS {name} ({fields_desc})\", error=\"Error: Issue creating table\")\n",
    "\n",
    "def insert_into_music_store(id, customer, cashier, year, albums):\n",
    "    execute_query(\"INSERT INTO music_store (id, customer_name, cashier_name, year, purchased_albums) \\\n",
    "                  VALUES (%s, %s, %s, %s, %s)\", \\\n",
    "                  (id, customer, cashier, year, albums), error=\"Error: Inserting Rows\")\n",
    "\n",
    "create_table(\"music_store\", \"id integer, customer_name varchar, cashier_name varchar, year integer, purchased_albums text\")\n",
    "insert_into_music_store(1, 'Amanda', 'Sam', 2000, ['Rubber Soul', 'Let it be'])\n",
    "insert_into_music_store(2, 'Toby', 'Sam', 2000, ['My Generation'])\n",
    "insert_into_music_store(3, 'Max', 'Bob', 2018, ['Meet the Beatles', 'Help!'])\n",
    "    \n",
    "execute_query(\"SELECT * FROM music_store\", error=\"Error: SELECT *\")\n",
    "\n",
    "rows = cur.fetchall()\n",
    "for row in rows:\n",
    "   print(row)"
   ]
  },
  {
   "cell_type": "markdown",
   "metadata": {},
   "source": [
    "#### Moving to 1st Normal Form (1NF)\n",
    "\n",
    "### This data has not been normalized. To get this data into 1st normal form, you need to remove any collections or list of data and break up the list of songs into individual rows. \n"
   ]
  },
  {
   "cell_type": "code",
   "execution_count": 11,
   "metadata": {},
   "outputs": [
    {
     "name": "stdout",
     "output_type": "stream",
     "text": [
      "(1, 'Amanda', 'Sam', 2000, 'Rubber Soul')\n",
      "(1, 'Amanda', 'Sam', 2000, 'Let it be')\n",
      "(2, 'Toby', 'Sam', 2000, 'My Generation')\n",
      "(3, 'Max', 'Bob', 2018, 'Meet the Beatles')\n",
      "(3, 'Max', 'Bob', 2018, 'Help!')\n"
     ]
    }
   ],
   "source": [
    "## TO-DO: Complete the CREATE table statements and INSERT statements\n",
    "\n",
    "create_table(\"music_store_2\", \"transaction_id integer, customer_name varchar, cashier_name varchar, year integer, purchased_album varchar\")\n",
    "\n",
    "def insert_into_music_store_2(id, customer, cashier, year, album):\n",
    "    execute_query(\"INSERT INTO music_store_2 (transaction_id, customer_name, cashier_name, year, purchased_album) \\\n",
    "                 VALUES (%s, %s, %s, %s, %s)\", \\\n",
    "                 (id, customer, cashier, year, album), error=\"Error: Inserting Rows\")\n",
    "\n",
    "insert_into_music_store_2(1, 'Amanda', 'Sam', 2000, 'Rubber Soul')\n",
    "insert_into_music_store_2(1, 'Amanda', 'Sam', 2000, 'Let it be')\n",
    "insert_into_music_store_2(2, 'Toby', 'Sam', 2000, 'My Generation')\n",
    "insert_into_music_store_2(3, 'Max', 'Bob', 2018, 'Meet the Beatles')\n",
    "insert_into_music_store_2(3, 'Max', 'Bob', 2018, 'Help!')\n",
    "\n",
    "execute_query(\"SELECT * FROM music_store_2\", error=\"Error: SELECT *\")\n",
    "\n",
    "rows = cur.fetchall()\n",
    "for row in rows:\n",
    "   print(row)"
   ]
  },
  {
   "cell_type": "markdown",
   "metadata": {},
   "source": [
    "#### Moving to 2nd Normal Form (2NF)\n",
    "You have now moved the data into 1NF, which is the first step in moving to 2nd Normal Form. The table is not yet in 2nd Normal Form. While each of the records in the table is unique, our Primary key (transaction id) is not unique. \n",
    "\n",
    "### Break up the table into two tables, transactions and albums sold. \n"
   ]
  },
  {
   "cell_type": "code",
   "execution_count": 14,
   "metadata": {
    "scrolled": true
   },
   "outputs": [
    {
     "name": "stdout",
     "output_type": "stream",
     "text": [
      "(1, 'Amanda', 'Sam')\n",
      "(2, 'Toby', 'Sam')\n",
      "(3, 'Max', 'Bob')\n",
      "\n",
      "Table: albums_sold\n",
      "\n",
      "(1, 'Amanda', 'Sam')\n",
      "(2, 'Toby', 'Sam')\n",
      "(3, 'Max', 'Bob')\n"
     ]
    }
   ],
   "source": [
    "create_table(\"transactions\", \"id integer, customer_name varchar, cashier_name varchar\")\n",
    "create_table(\"albums_sold\", \"transaction_id integer, year integer, purchased_album varchar\")\n",
    "\n",
    "def insert_transaction(id, customer, cashier):\n",
    "    execute_query(\"INSERT INTO transactions (id, customer_name, cashier_name) \\\n",
    "                   VALUES (%s, %s, %s)\", \\\n",
    "                  (id, customer, cashier), error=\"Error: Inserting Rows\")\n",
    "    \n",
    "def insert_albums_sold(transaction_id, year, album):\n",
    "    execute_query(\"INSERT INTO albums_sold (transaction_id, year, purchased_album) \\\n",
    "                   VALUES (%s, %s, %s)\",\n",
    "                 (transaction_id, year, album))\n",
    "\n",
    "    \n",
    "insert_transaction(1, \"Amanda\", \"Sam\")\n",
    "insert_transaction(2, \"Toby\", \"Sam\")\n",
    "insert_transaction(3, \"Max\", \"Bob\")\n",
    "insert_albums_sold(1, 2000, \"Rubber Soul\")\n",
    "insert_albums_sold(1, 2000, \"Let it be\")\n",
    "insert_albums_sold(2, 2000, 'My Generation')\n",
    "insert_albums_sold(3, 2018, 'Meet the Beatles')\n",
    "insert_albums_sold(3, 2018, 'Help!')\n",
    "\n",
    "print(\"\\nTable: transactions\\n\")\n",
    "execute_query(\"SELECT * FROM transactions\")\n",
    "rows = cur.fetchall()\n",
    "for row in rows:\n",
    "    print(row)\n",
    "   \n",
    "print(\"\\nTable: albums_sold\\n\")\n",
    "execute_query(\"SELECT * from albums_sold\")\n",
    "\n",
    "row = cur.fetchall()\n",
    "for row in rows:\n",
    "    print(row)"
   ]
  },
  {
   "cell_type": "markdown",
   "metadata": {},
   "source": [
    "### Do a `JOIN` on these tables to get all the information in the original first Table. "
   ]
  },
  {
   "cell_type": "code",
   "execution_count": 15,
   "metadata": {},
   "outputs": [
    {
     "name": "stdout",
     "output_type": "stream",
     "text": [
      "(1, 2000, 'Rubber Soul', 1, 'Amanda', 'Sam')\n",
      "(1, 2000, 'Let it be', 1, 'Amanda', 'Sam')\n",
      "(2, 2000, 'My Generation', 2, 'Toby', 'Sam')\n",
      "(3, 2018, 'Meet the Beatles', 3, 'Max', 'Bob')\n",
      "(3, 2018, 'Help!', 3, 'Max', 'Bob')\n"
     ]
    }
   ],
   "source": [
    "## TO-DO: Complete the join on the transactions and album_sold tables\n",
    "\n",
    "execute_query(\"SELECT * FROM albums_sold JOIN transactions on transaction_id = id\")\n",
    "rows = cur.fetchall()\n",
    "for row in rows:\n",
    "    print(row)"
   ]
  },
  {
   "cell_type": "markdown",
   "metadata": {},
   "source": [
    "#### Moving to 3rd Normal Form (3NF)\n",
    "Check our table for any transitive dependencies. \n",
    "_HINT:_ Check the table for any transitive dependencies. _Transactions_ can remove _Cashier Name_ to its own table, called _Employees_, which will leave us with 3 tables. \n",
    "\n",
    "\n",
    "### Create the third table named *employees* to move to 3rd NF. \n"
   ]
  },
  {
   "cell_type": "code",
   "execution_count": 17,
   "metadata": {},
   "outputs": [
    {
     "name": "stdout",
     "output_type": "stream",
     "text": [
      "Table: transactions2\n",
      "\n",
      "(1, 'Amanda', 1)\n",
      "(2, 'Toby', 1)\n",
      "(3, 'Max', 2)\n",
      "\n",
      "Table: albums_sold\n",
      "\n",
      "(1, 'Amanda', 1)\n",
      "(2, 'Toby', 1)\n",
      "(3, 'Max', 2)\n",
      "\n",
      "Table: employees\n",
      "\n",
      "(1, 'Amanda', 1)\n",
      "(2, 'Toby', 1)\n",
      "(3, 'Max', 2)\n"
     ]
    }
   ],
   "source": [
    "create_table(\"transactions_2\", \"id integer, customer_name varchar, employee_id integer\")\n",
    "create_table(\"employees\", \"id integer, employee_name varchar\")\n",
    "\n",
    "def insert_transaction(id, customer_name, employee_id):\n",
    "    execute_query(\"INSERT INTO transactions_2 (id, customer_name, employee_id) \\\n",
    "                   VALUES (%s, %s, %s)\", \\\n",
    "                 (id, customer_name, employee_id))\n",
    "\n",
    "def insert_employee(id, employee_name):\n",
    "    execute_query(\"INSERT INTO employees (id, employee_name) \\\n",
    "                   VALUES (%s, %s)\", \\\n",
    "                   (1, \"Sam\"))\n",
    "\n",
    "insert_transaction(1, \"Amanda\", 1)\n",
    "insert_transaction(2, \"Toby\", 1)\n",
    "insert_transaction(3, \"Max\", 2)\n",
    "insert_employee(1, \"Sam\")\n",
    "insert_employee(2, \"Bob\")\n",
    "\n",
    "print(\"Table: transactions2\\n\")\n",
    "execute_query(\"SELECT * FROM transactions_2\", error=\"Error: SELECT *\")\n",
    "rows = cur.fetchall()\n",
    "for row in rows:\n",
    "    print(row)\n",
    "\n",
    "print(\"\\nTable: albums_sold\\n\")\n",
    "execute_query(\"SELECT * FROM albums_sold\")\n",
    "for row in rows:\n",
    "    print(row)\n",
    "\n",
    "print(\"\\nTable: employees\\n\")\n",
    "execute_query(\"SELECT * FROM employees\")\n",
    "for row in rows:\n",
    "    print(row)"
   ]
  },
  {
   "cell_type": "markdown",
   "metadata": {},
   "source": [
    "### Complete the last two `JOIN` on these 3 tables so we can get all the information we had in our first Table. "
   ]
  },
  {
   "cell_type": "code",
   "execution_count": 18,
   "metadata": {},
   "outputs": [
    {
     "name": "stdout",
     "output_type": "stream",
     "text": [
      "(1, 'Amanda', 1, 1, 2000, 'Rubber Soul', 1, 'Sam')\n",
      "(1, 'Amanda', 1, 1, 2000, 'Let it be', 1, 'Sam')\n",
      "(2, 'Toby', 1, 2, 2000, 'My Generation', 1, 'Sam')\n",
      "(1, 'Amanda', 1, 1, 2000, 'Rubber Soul', 1, 'Sam')\n",
      "(1, 'Amanda', 1, 1, 2000, 'Let it be', 1, 'Sam')\n",
      "(2, 'Toby', 1, 2, 2000, 'My Generation', 1, 'Sam')\n",
      "(1, 'Amanda', 1, 1, 2000, 'Rubber Soul', 1, 'Sam')\n",
      "(1, 'Amanda', 1, 1, 2000, 'Let it be', 1, 'Sam')\n",
      "(2, 'Toby', 1, 2, 2000, 'My Generation', 1, 'Sam')\n",
      "(1, 'Amanda', 1, 1, 2000, 'Rubber Soul', 1, 'Sam')\n",
      "(1, 'Amanda', 1, 1, 2000, 'Let it be', 1, 'Sam')\n",
      "(2, 'Toby', 1, 2, 2000, 'My Generation', 1, 'Sam')\n"
     ]
    }
   ],
   "source": [
    "execute_query(\"\"\"\n",
    "SELECT * from (transactions_2 JOIN albums_sold ON \\\n",
    "               transactions_2.id = albums_sold.transaction_id) JOIN \\\n",
    "               employees ON employee_id=employees.id\n",
    "\"\"\")\n",
    "rows = cur.fetchall()\n",
    "for row in rows:\n",
    "    print(row)"
   ]
  },
  {
   "cell_type": "markdown",
   "metadata": {},
   "source": [
    "### Your output for the above cell should be:\n",
    "\n",
    "(1, 'Amanda', 1, 2000, 1, 1, 'Rubber Soul', 1, 'Sam')<br>\n",
    "(1, 'Amanda', 1, 2000, 2, 1, 'Let it Be', 1, 'Sam')<br>\n",
    "(2, 'Toby', 1, 2000, 3, 2, 'My Generation', 1, 'Sam')<br>\n",
    "(3, 'Max', 2, 2018, 4, 3, 'Meet the Beatles', 2, 'Bob')<br>\n",
    "(3, 'Max', 2, 2018, 5, 3, 'Help!', 2, 'Bob')<br>\n"
   ]
  },
  {
   "cell_type": "markdown",
   "metadata": {},
   "source": [
    "### Awesome work!! You have Normalized the dataset! "
   ]
  },
  {
   "cell_type": "markdown",
   "metadata": {},
   "source": [
    "### And finally close your cursor and connection. "
   ]
  },
  {
   "cell_type": "code",
   "execution_count": 9,
   "metadata": {},
   "outputs": [],
   "source": [
    "for table in [\"music_store\", \"music_store_2\", \"albums_sold\", \"employees\",\n",
    "              \"transactions\", \"transactions\"]\n",
    "try: \n",
    "    cur.execute(\"DROP table music_store\")\n",
    "except psycopg2.Error as e: \n",
    "    print(\"Error: Dropping table\")\n",
    "    print (e)\n",
    "try: \n",
    "    cur.execute(\"DROP table music_store2\")\n",
    "except psycopg2.Error as e: \n",
    "    print(\"Error: Dropping table\")\n",
    "    print (e)\n",
    "try: \n",
    "    cur.execute(\"DROP table albums_sold\")\n",
    "except psycopg2.Error as e: \n",
    "    print(\"Error: Dropping table\")\n",
    "    print (e)\n",
    "try: \n",
    "    cur.execute(\"DROP table employees\")\n",
    "except psycopg2.Error as e: \n",
    "    print(\"Error: Dropping table\")\n",
    "    print (e)\n",
    "try: \n",
    "    cur.execute(\"DROP table transactions\")\n",
    "except psycopg2.Error as e: \n",
    "    print(\"Error: Dropping table\")\n",
    "    print (e)\n",
    "try: \n",
    "    cur.execute(\"DROP table transactions2\")\n",
    "except psycopg2.Error as e: \n",
    "    print(\"Error: Dropping table\")\n",
    "    print (e)"
   ]
  },
  {
   "cell_type": "markdown",
   "metadata": {},
   "source": [
    "### And finally close your cursor and connection. "
   ]
  },
  {
   "cell_type": "code",
   "execution_count": 10,
   "metadata": {},
   "outputs": [],
   "source": [
    "cur.close()\n",
    "conn.close()"
   ]
  },
  {
   "cell_type": "code",
   "execution_count": null,
   "metadata": {},
   "outputs": [],
   "source": []
  }
 ],
 "metadata": {
  "kernelspec": {
   "display_name": "Python 3",
   "language": "python",
   "name": "python3"
  },
  "language_info": {
   "codemirror_mode": {
    "name": "ipython",
    "version": 3
   },
   "file_extension": ".py",
   "mimetype": "text/x-python",
   "name": "python",
   "nbconvert_exporter": "python",
   "pygments_lexer": "ipython3",
   "version": "3.7.2"
  }
 },
 "nbformat": 4,
 "nbformat_minor": 2
}
